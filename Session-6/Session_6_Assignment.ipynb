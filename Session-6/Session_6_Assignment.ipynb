{
  "nbformat": 4,
  "nbformat_minor": 0,
  "metadata": {
    "colab": {
      "name": "Session 6 Assignment",
      "provenance": [],
      "collapsed_sections": []
    },
    "kernelspec": {
      "name": "python3",
      "display_name": "Python 3"
    },
    "accelerator": "GPU"
  },
  "cells": [
    {
      "cell_type": "markdown",
      "metadata": {
        "id": "NF1Mz47hlmcj"
      },
      "source": [
        "```\n",
        "    Design a\n",
        "    Network with Group Normalization\n",
        "    Network with Layer Normalization\n",
        "    Network with L1 + BN\n",
        "\n",
        "Instructions:\n",
        "    Write a single model.py file that includes GN/LN/BN and takes an argument to decide which normalization to include\n",
        "    Write a single notebook file to run all the 3 models above for 20 epochs each\n",
        "    Create these graphs:\n",
        "        Graph 1: Test/Validation Loss for all 3 models together\n",
        "        Graph 2: Test/Validation Accuracy for 3 models together\n",
        "        graphs must have proper annotation\n",
        "    Find 10 misclassified images for each of the 3 models, and show them as a 5x2 image matrix in 3 separately annotated images. \n",
        "```\n",
        "\n",
        "\n"
      ]
    },
    {
      "cell_type": "markdown",
      "metadata": {
        "id": "aO-7t1Y7-hV4"
      },
      "source": [
        "# Import Libraries"
      ]
    },
    {
      "cell_type": "code",
      "metadata": {
        "id": "8kH16rnZ7wt_"
      },
      "source": [
        "from __future__ import print_function\n",
        "import torch\n",
        "import torch.nn as nn\n",
        "import torch.nn.functional as F\n",
        "import torch.optim as optim\n",
        "from torchvision import datasets, transforms"
      ],
      "execution_count": null,
      "outputs": []
    },
    {
      "cell_type": "markdown",
      "metadata": {
        "id": "ky3f_Odl-7um"
      },
      "source": [
        "## Data Transformations\n",
        "\n",
        "We first start with defining our data transformations. We need to think what our data is and how can we augment it to correct represent images which it might not see otherwise. \n"
      ]
    },
    {
      "cell_type": "code",
      "metadata": {
        "id": "YtssFUKb-jqx"
      },
      "source": [
        "# Train Phase transformations\n",
        "train_transforms = transforms.Compose([\n",
        "                                      #  transforms.Resize((28, 28)),\n",
        "                                       transforms.ColorJitter(brightness=0.10, contrast=0.1, saturation=0.10, hue=0.1),\n",
        "                                       transforms.RandomRotation((-7.0, 7.0), fill=(1,)),\n",
        "                                      #  transforms.RandomAffine(degrees=15),\n",
        "                                       transforms.ToTensor(),\n",
        "                                       transforms.Normalize((0.1307,), (0.3081,)), # The mean and std have to be sequences (e.g., tuples), therefore you should add a comma after the values. \n",
        "                                       # Note the difference between (0.1307) and (0.1307,)\n",
        "                                      #  transforms.RandomErasing()\n",
        "                                       ])\n",
        "\n",
        "# Test Phase transformations\n",
        "test_transforms = transforms.Compose([\n",
        "                                      #  transforms.Resize((28, 28)),\n",
        "                                      #  transforms.ColorJitter(brightness=0.10, contrast=0.1, saturation=0.10, hue=0.1),\n",
        "                                       transforms.ToTensor(),\n",
        "                                       transforms.Normalize((0.1307,), (0.3081,))\n",
        "                                       ])\n"
      ],
      "execution_count": null,
      "outputs": []
    },
    {
      "cell_type": "markdown",
      "metadata": {
        "id": "oQciFYo2B1mO"
      },
      "source": [
        "# Dataset and Creating Train/Test Split"
      ]
    },
    {
      "cell_type": "code",
      "metadata": {
        "id": "_4A84rlfDA23"
      },
      "source": [
        "train = datasets.MNIST('./data', train=True, download=True, transform=train_transforms)\n",
        "test = datasets.MNIST('./data', train=False, download=True, transform=test_transforms)"
      ],
      "execution_count": null,
      "outputs": []
    },
    {
      "cell_type": "markdown",
      "metadata": {
        "id": "qgldp_3-Dn0c"
      },
      "source": [
        "# Dataloader Arguments & Test/Train Dataloaders\n"
      ]
    },
    {
      "cell_type": "code",
      "metadata": {
        "id": "C8OLDR79DrHG",
        "colab": {
          "base_uri": "https://localhost:8080/"
        },
        "outputId": "e33bc593-e6f4-4043-89b9-3766487fe142"
      },
      "source": [
        "SEED = 1\n",
        "\n",
        "# CUDA?\n",
        "cuda = torch.cuda.is_available()\n",
        "print(\"CUDA Available?\", cuda)\n",
        "\n",
        "# For reproducibility\n",
        "torch.manual_seed(SEED)\n",
        "\n",
        "if cuda:\n",
        "    torch.cuda.manual_seed(SEED)\n",
        "\n",
        "# dataloader arguments - something you'll fetch these from cmdprmt\n",
        "dataloader_args = dict(shuffle=True, batch_size=128, num_workers=4, pin_memory=True) if cuda else dict(shuffle=True, batch_size=64)\n",
        "\n",
        "# train dataloader\n",
        "train_loader = torch.utils.data.DataLoader(train, **dataloader_args)\n",
        "\n",
        "# test dataloader\n",
        "test_loader = torch.utils.data.DataLoader(test, **dataloader_args)"
      ],
      "execution_count": null,
      "outputs": [
        {
          "output_type": "stream",
          "text": [
            "CUDA Available? True\n"
          ],
          "name": "stdout"
        },
        {
          "output_type": "stream",
          "text": [
            "/usr/local/lib/python3.7/dist-packages/torch/utils/data/dataloader.py:477: UserWarning: This DataLoader will create 4 worker processes in total. Our suggested max number of worker in current system is 2, which is smaller than what this DataLoader is going to create. Please be aware that excessive worker creation might get DataLoader running slow or even freeze, lower the worker number to avoid potential slowness/freeze if necessary.\n",
            "  cpuset_checked))\n"
          ],
          "name": "stderr"
        }
      ]
    },
    {
      "cell_type": "code",
      "metadata": {
        "id": "5PD1b0qQk9Zz"
      },
      "source": [
        "from enum import Enum\n",
        "class Regulaization(Enum):\n",
        "  BNORM = 'BN'\n",
        "  LNORM = 'LN'\n",
        "  GNORM = 'GN'\n"
      ],
      "execution_count": null,
      "outputs": []
    },
    {
      "cell_type": "code",
      "metadata": {
        "colab": {
          "base_uri": "https://localhost:8080/"
        },
        "id": "hPNMuMz_lT8z",
        "outputId": "ff041398-57a6-4979-8821-6c3609ce6554"
      },
      "source": [
        "type(Regulaization.BNORM.name)"
      ],
      "execution_count": null,
      "outputs": [
        {
          "output_type": "execute_result",
          "data": {
            "text/plain": [
              "str"
            ]
          },
          "metadata": {
            "tags": []
          },
          "execution_count": 36
        }
      ]
    },
    {
      "cell_type": "markdown",
      "metadata": {
        "id": "ubQL3H6RJL3h"
      },
      "source": [
        "# The model\n",
        "Let's start with the model we first saw"
      ]
    },
    {
      "cell_type": "code",
      "metadata": {
        "id": "7FXQlB9kH1ov"
      },
      "source": [
        "\n",
        "import torch.nn.functional as F\n",
        "dropout_value = 0.01\n",
        "\n",
        "class Net(nn.Module):\n",
        "  def __init__(self,regularization_type=Regulaization.BNORM,group_num=1):\n",
        "      super(Net, self).__init__()\n",
        "      self.regularizer = regularization_type\n",
        "      self.group_num = group_num\n",
        "      self.conv1 = nn.Sequential(\n",
        "          nn.Conv2d(1, 8, 3,bias=False),  \n",
        "          nn.ReLU(),\n",
        "          self.add_regularizer(8),\n",
        "          # nn.BatchNorm2d(8),\n",
        "\n",
        "          nn.Conv2d(8, 16, 3,padding=1,bias=False),\n",
        "          nn.ReLU(),\n",
        "          self.add_regularizer(16),\n",
        "          # nn.BatchNorm2d(16),\n",
        "      )\n",
        "      self.pool1 = nn.MaxPool2d(2,2)\n",
        "      self.trans1 = nn.Sequential(\n",
        "          nn.Conv2d(16, 8, 1,bias=False),\n",
        "          nn.ReLU(),\n",
        "      )\n",
        "      self.conv2 =  nn.Sequential(\n",
        "          nn.Conv2d(8, 8, 3,bias=False), \n",
        "          nn.ReLU(),\n",
        "          self.add_regularizer(8),\n",
        "          # nn.BatchNorm2d(8),\n",
        "          nn.Dropout2d(dropout_value),\n",
        "\n",
        "          nn.Conv2d(8, 16, 3,bias=False),  \n",
        "          nn.ReLU(),\n",
        "          self.add_regularizer(16),\n",
        "          # nn.BatchNorm2d(16),\n",
        "          nn.Dropout2d(dropout_value),\n",
        "\n",
        "          nn.Conv2d(16, 24, 3,bias=False),\n",
        "          nn.ReLU(),\n",
        "          self.add_regularizer(24),\n",
        "          # nn.BatchNorm2d(24),\n",
        "          nn.Dropout2d(dropout_value), \n",
        "      )\n",
        "      \n",
        "      self.trans2 = nn.Sequential(\n",
        "          nn.Conv2d(24, 24, 1,bias=False),\n",
        "          nn.ReLU(),\n",
        "      )\n",
        "      self.conv3 = nn.Sequential(\n",
        "          nn.Conv2d(8, 24, 3,bias=False),\n",
        "          nn.ReLU(),\n",
        "          self.add_regularizer(24),\n",
        "          # nn.BatchNorm2d(24),\n",
        "          nn.Dropout2d(dropout_value),    \n",
        "      )\n",
        "      self.gap = nn.Sequential(\n",
        "          nn.AvgPool2d(6)\n",
        "      )\n",
        "\n",
        "      self.conv4 = nn.Sequential(\n",
        "          nn.Conv2d(24, 16, 1,bias=False),\n",
        "          nn.ReLU(),\n",
        "          self.add_regularizer(16),)\n",
        "          # nn.BatchNorm2d(16),)\n",
        "      self.conv5 = nn.Sequential(nn.Conv2d(16,10,1,bias=False))\n",
        "\n",
        "  def forward(self, x):\n",
        "    x = self.conv1(x)\n",
        "    x = self.pool1(x)\n",
        "    x = self.trans1(x)\n",
        "    x = self.conv2(x)\n",
        "    x = self.trans2(x)\n",
        "    # x = self.conv3(x)\n",
        "    x = self.gap(x)\n",
        "    x = self.conv4(x)\n",
        "    x = self.conv5(x)\n",
        "    # print(x.shape)\n",
        "    x = x.view(-1,10)\n",
        "    # x = self.fc(x)\n",
        "    # print(x.shape)\n",
        "    return F.log_softmax(x,dim=-1)\n",
        "\n",
        "  def add_regularizer(self,out_channel):\n",
        "    \"\"\"\n",
        "    Returns regulaizer BN/LN/GN\n",
        "    \"\"\"\n",
        "    if self.regularizer == Regulaization.BNORM:\n",
        "      return nn.BatchNorm2d(out_channel)\n",
        "    elif self.regularizer == Regulaization.LNORM:\n",
        "      return nn.GroupNorm(1,out_channel)\n",
        "    return nn.GroupNorm(self.group_num,out_channel)"
      ],
      "execution_count": null,
      "outputs": []
    },
    {
      "cell_type": "code",
      "metadata": {
        "id": "mkkmrZRMKdLa"
      },
      "source": [
        ""
      ],
      "execution_count": null,
      "outputs": []
    },
    {
      "cell_type": "markdown",
      "metadata": {
        "id": "M3-vp8X9LCWo"
      },
      "source": [
        "# Model Params\n",
        "Can't emphasize on how important viewing Model Summary is. \n",
        "Unfortunately, there is no in-built model visualizer, so we have to take external help"
      ]
    },
    {
      "cell_type": "code",
      "metadata": {
        "id": "5skB97zIJQQe",
        "colab": {
          "base_uri": "https://localhost:8080/"
        },
        "outputId": "6e9cab23-07f5-4bf2-c550-b65466cd78ed"
      },
      "source": [
        "!pip install torchsummary\n",
        "from torchsummary import summary\n",
        "use_cuda = torch.cuda.is_available()\n",
        "device = torch.device(\"cuda\" if use_cuda else \"cpu\")\n",
        "print(device)\n",
        "model = Net(Regulaization.GNORM,2).to(device)\n",
        "summary(model, input_size=(1, 28, 28))"
      ],
      "execution_count": null,
      "outputs": [
        {
          "output_type": "stream",
          "text": [
            "Requirement already satisfied: torchsummary in /usr/local/lib/python3.7/dist-packages (1.5.1)\n",
            "cuda\n",
            "----------------------------------------------------------------\n",
            "        Layer (type)               Output Shape         Param #\n",
            "================================================================\n",
            "            Conv2d-1            [-1, 8, 26, 26]              72\n",
            "              ReLU-2            [-1, 8, 26, 26]               0\n",
            "         GroupNorm-3            [-1, 8, 26, 26]              16\n",
            "            Conv2d-4           [-1, 16, 26, 26]           1,152\n",
            "              ReLU-5           [-1, 16, 26, 26]               0\n",
            "         GroupNorm-6           [-1, 16, 26, 26]              32\n",
            "         MaxPool2d-7           [-1, 16, 13, 13]               0\n",
            "            Conv2d-8            [-1, 8, 13, 13]             128\n",
            "              ReLU-9            [-1, 8, 13, 13]               0\n",
            "           Conv2d-10            [-1, 8, 11, 11]             576\n",
            "             ReLU-11            [-1, 8, 11, 11]               0\n",
            "        GroupNorm-12            [-1, 8, 11, 11]              16\n",
            "        Dropout2d-13            [-1, 8, 11, 11]               0\n",
            "           Conv2d-14             [-1, 16, 9, 9]           1,152\n",
            "             ReLU-15             [-1, 16, 9, 9]               0\n",
            "        GroupNorm-16             [-1, 16, 9, 9]              32\n",
            "        Dropout2d-17             [-1, 16, 9, 9]               0\n",
            "           Conv2d-18             [-1, 24, 7, 7]           3,456\n",
            "             ReLU-19             [-1, 24, 7, 7]               0\n",
            "        GroupNorm-20             [-1, 24, 7, 7]              48\n",
            "        Dropout2d-21             [-1, 24, 7, 7]               0\n",
            "           Conv2d-22             [-1, 24, 7, 7]             576\n",
            "             ReLU-23             [-1, 24, 7, 7]               0\n",
            "        AvgPool2d-24             [-1, 24, 1, 1]               0\n",
            "           Conv2d-25             [-1, 16, 1, 1]             384\n",
            "             ReLU-26             [-1, 16, 1, 1]               0\n",
            "        GroupNorm-27             [-1, 16, 1, 1]              32\n",
            "           Conv2d-28             [-1, 10, 1, 1]             160\n",
            "================================================================\n",
            "Total params: 7,832\n",
            "Trainable params: 7,832\n",
            "Non-trainable params: 0\n",
            "----------------------------------------------------------------\n",
            "Input size (MB): 0.00\n",
            "Forward/backward pass size (MB): 0.54\n",
            "Params size (MB): 0.03\n",
            "Estimated Total Size (MB): 0.57\n",
            "----------------------------------------------------------------\n"
          ],
          "name": "stdout"
        }
      ]
    },
    {
      "cell_type": "markdown",
      "metadata": {
        "id": "1__x_SbrL7z3"
      },
      "source": [
        "# Training and Testing\n",
        "\n",
        "All right, so we have 24M params, and that's too many, we know that. But the purpose of this notebook is to set things right for our future experiments. \n",
        "\n",
        "Looking at logs can be boring, so we'll introduce **tqdm** progressbar to get cooler logs. \n",
        "\n",
        "Let's write train and test functions"
      ]
    },
    {
      "cell_type": "code",
      "metadata": {
        "id": "fbkF2nN_LYIb"
      },
      "source": [
        "from tqdm import tqdm\n",
        "\n",
        "train_losses = []\n",
        "test_losses = []\n",
        "train_acc = []\n",
        "test_acc = []\n",
        "\n",
        "\n",
        "def train(model, device, train_loader, optimizer, epoch,loss_function,lambda_val=0):\n",
        "  model.train()\n",
        "  pbar = tqdm(train_loader)\n",
        "  correct = 0\n",
        "  processed = 0\n",
        "  train_loss = 0\n",
        "  for batch_idx, (data, target) in enumerate(pbar):\n",
        "    # get samples\n",
        "    data, target = data.to(device), target.to(device)\n",
        "\n",
        "    # Init\n",
        "    optimizer.zero_grad()\n",
        "    # In PyTorch, we need to set the gradients to zero before starting to do backpropragation because PyTorch accumulates the gradients on subsequent backward passes. \n",
        "    # Because of this, when you start your training loop, ideally you should zero out the gradients so that you do the parameter update correctly.\n",
        "\n",
        "    # Predict\n",
        "    y_pred = model(data)\n",
        "\n",
        "    # Calculate loss\n",
        "    loss = loss_function(model,y_pred, target,lambda_val)\n",
        "    # loss = F.nll_loss(y_pred, target)\n",
        "    train_loss+=loss.item()\n",
        "\n",
        "    # Backpropagation\n",
        "    loss.backward()\n",
        "    optimizer.step()\n",
        "\n",
        "    # Update pbar-tqdm\n",
        "    \n",
        "    pred = y_pred.argmax(dim=1, keepdim=True)  # get the index of the max log-probability\n",
        "    correct += pred.eq(target.view_as(pred)).sum().item()\n",
        "    processed += len(data)\n",
        "\n",
        "    pbar.set_description(desc= f'Loss={loss.item()} Batch_id={batch_idx} Accuracy={100*correct/processed:0.2f}')\n",
        "  train_acc.append(100*correct/processed)\n",
        "  train_losses.append(train_loss / len(train_loader))\n",
        "\n",
        "def test(model, device, test_loader,loss_function,lambda_val=0):\n",
        "    model.eval()\n",
        "    test_loss = 0\n",
        "    correct = 0\n",
        "    wrong_images = []\n",
        "    correct_label = []\n",
        "    with torch.no_grad():\n",
        "        for data, target in test_loader:\n",
        "            data, target = data.to(device), target.to(device)\n",
        "            output = model(data)\n",
        "            test_loss += loss_function(model,output, target,lambda_val,'sum').item()  # sum up batch loss\n",
        "            pred = output.argmax(dim=1, keepdim=True)  # get the index of the max log-probability\n",
        "\n",
        "            wrong_pred = (pred.eq(target.view_as(pred)) == False)\n",
        "            wrong_images.append(data[wrong_pred])\n",
        "            correct_label.append(target.view_as(pred)[wrong_pred])\n",
        "            correct += pred.eq(target.view_as(pred)).sum().item()\n",
        "\n",
        "    test_loss /= len(test_loader.dataset)\n",
        "    test_losses.append(test_loss)\n",
        "\n",
        "    print('\\nTest set: Average loss: {:.4f}, Accuracy: {}/{} ({:.2f}%)\\n'.format(\n",
        "        test_loss, correct, len(test_loader.dataset),\n",
        "        100. * correct / len(test_loader.dataset)))\n",
        "    acc = 100. * correct / len(test_loader.dataset)\n",
        "    test_acc.append(acc)\n",
        "    return acc,test_loss,wrong_images,correct_label"
      ],
      "execution_count": null,
      "outputs": []
    },
    {
      "cell_type": "code",
      "metadata": {
        "id": "5TxPlsN7tPh_"
      },
      "source": [
        "def loss_fn(model,pred,target,lambda_param=None,reduction_type='mean'):\n",
        "  loss = F.nll_loss(pred,target,reduction=reduction_type)\n",
        "  if lambda_param:\n",
        "    # print('here')\n",
        "    l1 = 0\n",
        "    for p in model.parameters():\n",
        "      l1 = l1 + p.abs().sum()\n",
        "    loss = loss + lambda_param*l1\n",
        "  return loss"
      ],
      "execution_count": null,
      "outputs": []
    },
    {
      "cell_type": "code",
      "metadata": {
        "id": "0VoVT77xyurf"
      },
      "source": [
        "from collections import defaultdict\n",
        "result_dict = defaultdict(dict)"
      ],
      "execution_count": null,
      "outputs": []
    },
    {
      "cell_type": "code",
      "metadata": {
        "id": "aE5Le6FYHhc8",
        "colab": {
          "base_uri": "https://localhost:8080/"
        },
        "outputId": "de8447dd-5853-4b18-ba42-73d1d00bff23"
      },
      "source": [
        "from torch.optim.lr_scheduler import StepLR\n",
        "\n",
        "model_initilizer_list = [Regulaization.GNORM,Regulaization.LNORM,Regulaization.BNORM]\n",
        "group_num = 4\n",
        "for current_model_initilizer in model_initilizer_list:\n",
        "  model =  Net(current_model_initilizer,group_num).to(device)\n",
        "  optimizer = optim.SGD(model.parameters(), lr=0.01, momentum=0.9)\n",
        "  scheduler = StepLR(optimizer, step_size=4, gamma=0.1)\n",
        "  EPOCHS = 15\n",
        "  result_dict[current_model_initilizer] = defaultdict(list)\n",
        "  lambda_val = 0\n",
        "  if current_model_initilizer == Regulaization.BNORM:\n",
        "    lambda_val = 0.009\n",
        "  for epoch in range(EPOCHS):\n",
        "      print(\"EPOCH:\", epoch)\n",
        "      train(model, device, train_loader, optimizer, epoch,loss_fn,lambda_val)\n",
        "      scheduler.step()\n",
        "      acc,loss,wrong_images,correct_label = test(model, device, test_loader,loss_fn,lambda_val)\n",
        "      result_dict[current_model_initilizer]['acc'].append(acc)\n",
        "      result_dict[current_model_initilizer]['loss'].append(loss)\n",
        "  result_dict[current_model_initilizer]['wrong_img'] = wrong_images\n",
        "  result_dict[current_model_initilizer]['correct_label'] = correct_label"
      ],
      "execution_count": null,
      "outputs": [
        {
          "output_type": "stream",
          "text": [
            "\r  0%|          | 0/469 [00:00<?, ?it/s]"
          ],
          "name": "stderr"
        },
        {
          "output_type": "stream",
          "text": [
            "EPOCH: 0\n"
          ],
          "name": "stdout"
        },
        {
          "output_type": "stream",
          "text": [
            "/usr/local/lib/python3.7/dist-packages/torch/utils/data/dataloader.py:477: UserWarning: This DataLoader will create 4 worker processes in total. Our suggested max number of worker in current system is 2, which is smaller than what this DataLoader is going to create. Please be aware that excessive worker creation might get DataLoader running slow or even freeze, lower the worker number to avoid potential slowness/freeze if necessary.\n",
            "  cpuset_checked))\n",
            "Loss=0.07086062431335449 Batch_id=468 Accuracy=85.67: 100%|██████████| 469/469 [00:30<00:00, 15.42it/s]\n",
            "  0%|          | 0/469 [00:00<?, ?it/s]"
          ],
          "name": "stderr"
        },
        {
          "output_type": "stream",
          "text": [
            "\n",
            "Test set: Average loss: 0.1050, Accuracy: 9715/10000 (97.15%)\n",
            "\n",
            "EPOCH: 1\n"
          ],
          "name": "stdout"
        },
        {
          "output_type": "stream",
          "text": [
            "Loss=0.10808483511209488 Batch_id=468 Accuracy=96.46: 100%|██████████| 469/469 [00:30<00:00, 15.41it/s]\n",
            "  0%|          | 0/469 [00:00<?, ?it/s]"
          ],
          "name": "stderr"
        },
        {
          "output_type": "stream",
          "text": [
            "\n",
            "Test set: Average loss: 0.0647, Accuracy: 9809/10000 (98.09%)\n",
            "\n",
            "EPOCH: 2\n"
          ],
          "name": "stdout"
        },
        {
          "output_type": "stream",
          "text": [
            "Loss=0.013228905387222767 Batch_id=468 Accuracy=97.46: 100%|██████████| 469/469 [00:30<00:00, 15.38it/s]\n",
            "  0%|          | 0/469 [00:00<?, ?it/s]"
          ],
          "name": "stderr"
        },
        {
          "output_type": "stream",
          "text": [
            "\n",
            "Test set: Average loss: 0.0572, Accuracy: 9849/10000 (98.49%)\n",
            "\n",
            "EPOCH: 3\n"
          ],
          "name": "stdout"
        },
        {
          "output_type": "stream",
          "text": [
            "Loss=0.04711734130978584 Batch_id=468 Accuracy=98.10: 100%|██████████| 469/469 [00:30<00:00, 15.27it/s]\n",
            "  0%|          | 0/469 [00:00<?, ?it/s]"
          ],
          "name": "stderr"
        },
        {
          "output_type": "stream",
          "text": [
            "\n",
            "Test set: Average loss: 0.0368, Accuracy: 9885/10000 (98.85%)\n",
            "\n",
            "EPOCH: 4\n"
          ],
          "name": "stdout"
        },
        {
          "output_type": "stream",
          "text": [
            "Loss=0.04110729694366455 Batch_id=468 Accuracy=98.68: 100%|██████████| 469/469 [00:30<00:00, 15.31it/s]\n",
            "  0%|          | 0/469 [00:00<?, ?it/s]"
          ],
          "name": "stderr"
        },
        {
          "output_type": "stream",
          "text": [
            "\n",
            "Test set: Average loss: 0.0318, Accuracy: 9903/10000 (99.03%)\n",
            "\n",
            "EPOCH: 5\n"
          ],
          "name": "stdout"
        },
        {
          "output_type": "stream",
          "text": [
            "Loss=0.01083999965339899 Batch_id=468 Accuracy=98.79: 100%|██████████| 469/469 [00:30<00:00, 15.21it/s]\n",
            "  0%|          | 0/469 [00:00<?, ?it/s]"
          ],
          "name": "stderr"
        },
        {
          "output_type": "stream",
          "text": [
            "\n",
            "Test set: Average loss: 0.0303, Accuracy: 9911/10000 (99.11%)\n",
            "\n",
            "EPOCH: 6\n"
          ],
          "name": "stdout"
        },
        {
          "output_type": "stream",
          "text": [
            "Loss=0.10176732391119003 Batch_id=468 Accuracy=98.87: 100%|██████████| 469/469 [00:30<00:00, 15.39it/s]\n",
            "  0%|          | 0/469 [00:00<?, ?it/s]"
          ],
          "name": "stderr"
        },
        {
          "output_type": "stream",
          "text": [
            "\n",
            "Test set: Average loss: 0.0295, Accuracy: 9917/10000 (99.17%)\n",
            "\n",
            "EPOCH: 7\n"
          ],
          "name": "stdout"
        },
        {
          "output_type": "stream",
          "text": [
            "Loss=0.15039663016796112 Batch_id=468 Accuracy=98.86: 100%|██████████| 469/469 [00:30<00:00, 15.15it/s]\n",
            "  0%|          | 0/469 [00:00<?, ?it/s]"
          ],
          "name": "stderr"
        },
        {
          "output_type": "stream",
          "text": [
            "\n",
            "Test set: Average loss: 0.0289, Accuracy: 9914/10000 (99.14%)\n",
            "\n",
            "EPOCH: 8\n"
          ],
          "name": "stdout"
        },
        {
          "output_type": "stream",
          "text": [
            "Loss=0.05589153245091438 Batch_id=468 Accuracy=98.89: 100%|██████████| 469/469 [00:31<00:00, 14.99it/s]\n",
            "  0%|          | 0/469 [00:00<?, ?it/s]"
          ],
          "name": "stderr"
        },
        {
          "output_type": "stream",
          "text": [
            "\n",
            "Test set: Average loss: 0.0287, Accuracy: 9913/10000 (99.13%)\n",
            "\n",
            "EPOCH: 9\n"
          ],
          "name": "stdout"
        },
        {
          "output_type": "stream",
          "text": [
            "Loss=0.01903769187629223 Batch_id=468 Accuracy=98.97: 100%|██████████| 469/469 [00:30<00:00, 15.15it/s]\n",
            "  0%|          | 0/469 [00:00<?, ?it/s]"
          ],
          "name": "stderr"
        },
        {
          "output_type": "stream",
          "text": [
            "\n",
            "Test set: Average loss: 0.0285, Accuracy: 9913/10000 (99.13%)\n",
            "\n",
            "EPOCH: 10\n"
          ],
          "name": "stdout"
        },
        {
          "output_type": "stream",
          "text": [
            "Loss=0.008212666027247906 Batch_id=468 Accuracy=98.93: 100%|██████████| 469/469 [00:30<00:00, 15.31it/s]\n",
            "  0%|          | 0/469 [00:00<?, ?it/s]"
          ],
          "name": "stderr"
        },
        {
          "output_type": "stream",
          "text": [
            "\n",
            "Test set: Average loss: 0.0286, Accuracy: 9914/10000 (99.14%)\n",
            "\n",
            "EPOCH: 11\n"
          ],
          "name": "stdout"
        },
        {
          "output_type": "stream",
          "text": [
            "Loss=0.007170164491981268 Batch_id=468 Accuracy=98.97: 100%|██████████| 469/469 [00:30<00:00, 15.28it/s]\n",
            "  0%|          | 0/469 [00:00<?, ?it/s]"
          ],
          "name": "stderr"
        },
        {
          "output_type": "stream",
          "text": [
            "\n",
            "Test set: Average loss: 0.0285, Accuracy: 9914/10000 (99.14%)\n",
            "\n",
            "EPOCH: 12\n"
          ],
          "name": "stdout"
        },
        {
          "output_type": "stream",
          "text": [
            "Loss=0.042092159390449524 Batch_id=468 Accuracy=98.96: 100%|██████████| 469/469 [00:30<00:00, 15.27it/s]\n",
            "  0%|          | 0/469 [00:00<?, ?it/s]"
          ],
          "name": "stderr"
        },
        {
          "output_type": "stream",
          "text": [
            "\n",
            "Test set: Average loss: 0.0284, Accuracy: 9914/10000 (99.14%)\n",
            "\n",
            "EPOCH: 13\n"
          ],
          "name": "stdout"
        },
        {
          "output_type": "stream",
          "text": [
            "Loss=0.015329242683947086 Batch_id=468 Accuracy=99.02: 100%|██████████| 469/469 [00:30<00:00, 15.26it/s]\n",
            "  0%|          | 0/469 [00:00<?, ?it/s]"
          ],
          "name": "stderr"
        },
        {
          "output_type": "stream",
          "text": [
            "\n",
            "Test set: Average loss: 0.0284, Accuracy: 9915/10000 (99.15%)\n",
            "\n",
            "EPOCH: 14\n"
          ],
          "name": "stdout"
        },
        {
          "output_type": "stream",
          "text": [
            "Loss=0.028656547889113426 Batch_id=468 Accuracy=98.97: 100%|██████████| 469/469 [00:30<00:00, 15.16it/s]\n",
            "  0%|          | 0/469 [00:00<?, ?it/s]"
          ],
          "name": "stderr"
        },
        {
          "output_type": "stream",
          "text": [
            "\n",
            "Test set: Average loss: 0.0283, Accuracy: 9916/10000 (99.16%)\n",
            "\n",
            "EPOCH: 0\n"
          ],
          "name": "stdout"
        },
        {
          "output_type": "stream",
          "text": [
            "Loss=0.09189027547836304 Batch_id=468 Accuracy=85.02: 100%|██████████| 469/469 [00:31<00:00, 15.12it/s]\n",
            "  0%|          | 0/469 [00:00<?, ?it/s]"
          ],
          "name": "stderr"
        },
        {
          "output_type": "stream",
          "text": [
            "\n",
            "Test set: Average loss: 0.0873, Accuracy: 9752/10000 (97.52%)\n",
            "\n",
            "EPOCH: 1\n"
          ],
          "name": "stdout"
        },
        {
          "output_type": "stream",
          "text": [
            "Loss=0.12109461426734924 Batch_id=468 Accuracy=97.08: 100%|██████████| 469/469 [00:31<00:00, 15.05it/s]\n",
            "  0%|          | 0/469 [00:00<?, ?it/s]"
          ],
          "name": "stderr"
        },
        {
          "output_type": "stream",
          "text": [
            "\n",
            "Test set: Average loss: 0.0564, Accuracy: 9832/10000 (98.32%)\n",
            "\n",
            "EPOCH: 2\n"
          ],
          "name": "stdout"
        },
        {
          "output_type": "stream",
          "text": [
            "Loss=0.15388771891593933 Batch_id=468 Accuracy=97.69: 100%|██████████| 469/469 [00:30<00:00, 15.22it/s]\n",
            "  0%|          | 0/469 [00:00<?, ?it/s]"
          ],
          "name": "stderr"
        },
        {
          "output_type": "stream",
          "text": [
            "\n",
            "Test set: Average loss: 0.0556, Accuracy: 9844/10000 (98.44%)\n",
            "\n",
            "EPOCH: 3\n"
          ],
          "name": "stdout"
        },
        {
          "output_type": "stream",
          "text": [
            "Loss=0.036329615861177444 Batch_id=468 Accuracy=98.07: 100%|██████████| 469/469 [00:30<00:00, 15.13it/s]\n",
            "  0%|          | 0/469 [00:00<?, ?it/s]"
          ],
          "name": "stderr"
        },
        {
          "output_type": "stream",
          "text": [
            "\n",
            "Test set: Average loss: 0.0452, Accuracy: 9861/10000 (98.61%)\n",
            "\n",
            "EPOCH: 4\n"
          ],
          "name": "stdout"
        },
        {
          "output_type": "stream",
          "text": [
            "Loss=0.03008093871176243 Batch_id=468 Accuracy=98.82: 100%|██████████| 469/469 [00:31<00:00, 15.10it/s]\n",
            "  0%|          | 0/469 [00:00<?, ?it/s]"
          ],
          "name": "stderr"
        },
        {
          "output_type": "stream",
          "text": [
            "\n",
            "Test set: Average loss: 0.0316, Accuracy: 9906/10000 (99.06%)\n",
            "\n",
            "EPOCH: 5\n"
          ],
          "name": "stdout"
        },
        {
          "output_type": "stream",
          "text": [
            "Loss=0.11943164467811584 Batch_id=468 Accuracy=98.93: 100%|██████████| 469/469 [00:31<00:00, 15.04it/s]\n",
            "  0%|          | 0/469 [00:00<?, ?it/s]"
          ],
          "name": "stderr"
        },
        {
          "output_type": "stream",
          "text": [
            "\n",
            "Test set: Average loss: 0.0310, Accuracy: 9905/10000 (99.05%)\n",
            "\n",
            "EPOCH: 6\n"
          ],
          "name": "stdout"
        },
        {
          "output_type": "stream",
          "text": [
            "Loss=0.05149990692734718 Batch_id=468 Accuracy=98.95: 100%|██████████| 469/469 [00:31<00:00, 15.09it/s]\n",
            "  0%|          | 0/469 [00:00<?, ?it/s]"
          ],
          "name": "stderr"
        },
        {
          "output_type": "stream",
          "text": [
            "\n",
            "Test set: Average loss: 0.0296, Accuracy: 9920/10000 (99.20%)\n",
            "\n",
            "EPOCH: 7\n"
          ],
          "name": "stdout"
        },
        {
          "output_type": "stream",
          "text": [
            "Loss=0.06029212847352028 Batch_id=468 Accuracy=98.94: 100%|██████████| 469/469 [00:31<00:00, 15.10it/s]\n",
            "  0%|          | 0/469 [00:00<?, ?it/s]"
          ],
          "name": "stderr"
        },
        {
          "output_type": "stream",
          "text": [
            "\n",
            "Test set: Average loss: 0.0290, Accuracy: 9919/10000 (99.19%)\n",
            "\n",
            "EPOCH: 8\n"
          ],
          "name": "stdout"
        },
        {
          "output_type": "stream",
          "text": [
            "Loss=0.018474744632840157 Batch_id=468 Accuracy=99.01: 100%|██████████| 469/469 [00:31<00:00, 15.11it/s]\n",
            "  0%|          | 0/469 [00:00<?, ?it/s]"
          ],
          "name": "stderr"
        },
        {
          "output_type": "stream",
          "text": [
            "\n",
            "Test set: Average loss: 0.0288, Accuracy: 9920/10000 (99.20%)\n",
            "\n",
            "EPOCH: 9\n"
          ],
          "name": "stdout"
        },
        {
          "output_type": "stream",
          "text": [
            "Loss=0.029165685176849365 Batch_id=468 Accuracy=99.01: 100%|██████████| 469/469 [00:31<00:00, 14.96it/s]\n",
            "  0%|          | 0/469 [00:00<?, ?it/s]"
          ],
          "name": "stderr"
        },
        {
          "output_type": "stream",
          "text": [
            "\n",
            "Test set: Average loss: 0.0287, Accuracy: 9920/10000 (99.20%)\n",
            "\n",
            "EPOCH: 10\n"
          ],
          "name": "stdout"
        },
        {
          "output_type": "stream",
          "text": [
            "Loss=0.0047720628790557384 Batch_id=468 Accuracy=99.03: 100%|██████████| 469/469 [00:31<00:00, 15.10it/s]\n",
            "  0%|          | 0/469 [00:00<?, ?it/s]"
          ],
          "name": "stderr"
        },
        {
          "output_type": "stream",
          "text": [
            "\n",
            "Test set: Average loss: 0.0287, Accuracy: 9919/10000 (99.19%)\n",
            "\n",
            "EPOCH: 11\n"
          ],
          "name": "stdout"
        },
        {
          "output_type": "stream",
          "text": [
            "Loss=0.05605176463723183 Batch_id=468 Accuracy=99.02: 100%|██████████| 469/469 [00:30<00:00, 15.20it/s]\n",
            "  0%|          | 0/469 [00:00<?, ?it/s]"
          ],
          "name": "stderr"
        },
        {
          "output_type": "stream",
          "text": [
            "\n",
            "Test set: Average loss: 0.0287, Accuracy: 9923/10000 (99.23%)\n",
            "\n",
            "EPOCH: 12\n"
          ],
          "name": "stdout"
        },
        {
          "output_type": "stream",
          "text": [
            "Loss=0.023954788222908974 Batch_id=468 Accuracy=99.03: 100%|██████████| 469/469 [00:30<00:00, 15.20it/s]\n",
            "  0%|          | 0/469 [00:00<?, ?it/s]"
          ],
          "name": "stderr"
        },
        {
          "output_type": "stream",
          "text": [
            "\n",
            "Test set: Average loss: 0.0286, Accuracy: 9922/10000 (99.22%)\n",
            "\n",
            "EPOCH: 13\n"
          ],
          "name": "stdout"
        },
        {
          "output_type": "stream",
          "text": [
            "Loss=0.00928750354796648 Batch_id=468 Accuracy=99.05: 100%|██████████| 469/469 [00:30<00:00, 15.35it/s]\n",
            "  0%|          | 0/469 [00:00<?, ?it/s]"
          ],
          "name": "stderr"
        },
        {
          "output_type": "stream",
          "text": [
            "\n",
            "Test set: Average loss: 0.0286, Accuracy: 9923/10000 (99.23%)\n",
            "\n",
            "EPOCH: 14\n"
          ],
          "name": "stdout"
        },
        {
          "output_type": "stream",
          "text": [
            "Loss=0.02615313231945038 Batch_id=468 Accuracy=99.06: 100%|██████████| 469/469 [00:30<00:00, 15.37it/s]\n",
            "  0%|          | 0/469 [00:00<?, ?it/s]"
          ],
          "name": "stderr"
        },
        {
          "output_type": "stream",
          "text": [
            "\n",
            "Test set: Average loss: 0.0286, Accuracy: 9923/10000 (99.23%)\n",
            "\n",
            "EPOCH: 0\n"
          ],
          "name": "stdout"
        },
        {
          "output_type": "stream",
          "text": [
            "Loss=1.9334774017333984 Batch_id=468 Accuracy=89.67: 100%|██████████| 469/469 [00:31<00:00, 14.69it/s]\n",
            "  0%|          | 0/469 [00:00<?, ?it/s]"
          ],
          "name": "stderr"
        },
        {
          "output_type": "stream",
          "text": [
            "\n",
            "Test set: Average loss: 0.4332, Accuracy: 8704/10000 (87.04%)\n",
            "\n",
            "EPOCH: 1\n"
          ],
          "name": "stdout"
        },
        {
          "output_type": "stream",
          "text": [
            "Loss=1.1921451091766357 Batch_id=468 Accuracy=93.41: 100%|██████████| 469/469 [00:32<00:00, 14.56it/s]\n",
            "  0%|          | 0/469 [00:00<?, ?it/s]"
          ],
          "name": "stderr"
        },
        {
          "output_type": "stream",
          "text": [
            "\n",
            "Test set: Average loss: 0.6319, Accuracy: 7811/10000 (78.11%)\n",
            "\n",
            "EPOCH: 2\n"
          ],
          "name": "stdout"
        },
        {
          "output_type": "stream",
          "text": [
            "Loss=1.0995115041732788 Batch_id=468 Accuracy=93.13: 100%|██████████| 469/469 [00:31<00:00, 14.78it/s]\n",
            "  0%|          | 0/469 [00:00<?, ?it/s]"
          ],
          "name": "stderr"
        },
        {
          "output_type": "stream",
          "text": [
            "\n",
            "Test set: Average loss: 1.3773, Accuracy: 6213/10000 (62.13%)\n",
            "\n",
            "EPOCH: 3\n"
          ],
          "name": "stdout"
        },
        {
          "output_type": "stream",
          "text": [
            "Loss=0.9930112361907959 Batch_id=468 Accuracy=93.05: 100%|██████████| 469/469 [00:31<00:00, 14.66it/s]\n",
            "  0%|          | 0/469 [00:00<?, ?it/s]"
          ],
          "name": "stderr"
        },
        {
          "output_type": "stream",
          "text": [
            "\n",
            "Test set: Average loss: 0.4350, Accuracy: 8731/10000 (87.31%)\n",
            "\n",
            "EPOCH: 4\n"
          ],
          "name": "stdout"
        },
        {
          "output_type": "stream",
          "text": [
            "Loss=0.7759411334991455 Batch_id=468 Accuracy=96.23: 100%|██████████| 469/469 [00:31<00:00, 14.76it/s]\n",
            "  0%|          | 0/469 [00:00<?, ?it/s]"
          ],
          "name": "stderr"
        },
        {
          "output_type": "stream",
          "text": [
            "\n",
            "Test set: Average loss: 0.1392, Accuracy: 9707/10000 (97.07%)\n",
            "\n",
            "EPOCH: 5\n"
          ],
          "name": "stdout"
        },
        {
          "output_type": "stream",
          "text": [
            "Loss=0.8535560369491577 Batch_id=468 Accuracy=96.38: 100%|██████████| 469/469 [00:33<00:00, 14.07it/s]\n",
            "  0%|          | 0/469 [00:00<?, ?it/s]"
          ],
          "name": "stderr"
        },
        {
          "output_type": "stream",
          "text": [
            "\n",
            "Test set: Average loss: 0.2287, Accuracy: 9442/10000 (94.42%)\n",
            "\n",
            "EPOCH: 6\n"
          ],
          "name": "stdout"
        },
        {
          "output_type": "stream",
          "text": [
            "Loss=0.7453534603118896 Batch_id=468 Accuracy=96.11: 100%|██████████| 469/469 [00:32<00:00, 14.22it/s]\n",
            "  0%|          | 0/469 [00:00<?, ?it/s]"
          ],
          "name": "stderr"
        },
        {
          "output_type": "stream",
          "text": [
            "\n",
            "Test set: Average loss: 0.1191, Accuracy: 9741/10000 (97.41%)\n",
            "\n",
            "EPOCH: 7\n"
          ],
          "name": "stdout"
        },
        {
          "output_type": "stream",
          "text": [
            "Loss=0.8156288266181946 Batch_id=468 Accuracy=95.93: 100%|██████████| 469/469 [00:31<00:00, 14.73it/s]\n",
            "  0%|          | 0/469 [00:00<?, ?it/s]"
          ],
          "name": "stderr"
        },
        {
          "output_type": "stream",
          "text": [
            "\n",
            "Test set: Average loss: 0.1166, Accuracy: 9700/10000 (97.00%)\n",
            "\n",
            "EPOCH: 8\n"
          ],
          "name": "stdout"
        },
        {
          "output_type": "stream",
          "text": [
            "Loss=0.7303712368011475 Batch_id=468 Accuracy=97.18: 100%|██████████| 469/469 [00:32<00:00, 14.39it/s]\n",
            "  0%|          | 0/469 [00:00<?, ?it/s]"
          ],
          "name": "stderr"
        },
        {
          "output_type": "stream",
          "text": [
            "\n",
            "Test set: Average loss: 0.0833, Accuracy: 9850/10000 (98.50%)\n",
            "\n",
            "EPOCH: 9\n"
          ],
          "name": "stdout"
        },
        {
          "output_type": "stream",
          "text": [
            "Loss=0.708297610282898 Batch_id=468 Accuracy=97.35: 100%|██████████| 469/469 [00:32<00:00, 14.49it/s]\n",
            "  0%|          | 0/469 [00:00<?, ?it/s]"
          ],
          "name": "stderr"
        },
        {
          "output_type": "stream",
          "text": [
            "\n",
            "Test set: Average loss: 0.0827, Accuracy: 9843/10000 (98.43%)\n",
            "\n",
            "EPOCH: 10\n"
          ],
          "name": "stdout"
        },
        {
          "output_type": "stream",
          "text": [
            "Loss=0.6840149164199829 Batch_id=468 Accuracy=97.12: 100%|██████████| 469/469 [00:32<00:00, 14.54it/s]\n",
            "  0%|          | 0/469 [00:00<?, ?it/s]"
          ],
          "name": "stderr"
        },
        {
          "output_type": "stream",
          "text": [
            "\n",
            "Test set: Average loss: 0.0815, Accuracy: 9849/10000 (98.49%)\n",
            "\n",
            "EPOCH: 11\n"
          ],
          "name": "stdout"
        },
        {
          "output_type": "stream",
          "text": [
            "Loss=0.7286645770072937 Batch_id=468 Accuracy=97.19: 100%|██████████| 469/469 [00:31<00:00, 14.88it/s]\n",
            "  0%|          | 0/469 [00:00<?, ?it/s]"
          ],
          "name": "stderr"
        },
        {
          "output_type": "stream",
          "text": [
            "\n",
            "Test set: Average loss: 0.0805, Accuracy: 9843/10000 (98.43%)\n",
            "\n",
            "EPOCH: 12\n"
          ],
          "name": "stdout"
        },
        {
          "output_type": "stream",
          "text": [
            "Loss=0.6199542880058289 Batch_id=468 Accuracy=97.40: 100%|██████████| 469/469 [00:31<00:00, 14.87it/s]\n",
            "  0%|          | 0/469 [00:00<?, ?it/s]"
          ],
          "name": "stderr"
        },
        {
          "output_type": "stream",
          "text": [
            "\n",
            "Test set: Average loss: 0.0746, Accuracy: 9858/10000 (98.58%)\n",
            "\n",
            "EPOCH: 13\n"
          ],
          "name": "stdout"
        },
        {
          "output_type": "stream",
          "text": [
            "Loss=0.6315209269523621 Batch_id=468 Accuracy=97.44: 100%|██████████| 469/469 [00:31<00:00, 14.77it/s]\n",
            "  0%|          | 0/469 [00:00<?, ?it/s]"
          ],
          "name": "stderr"
        },
        {
          "output_type": "stream",
          "text": [
            "\n",
            "Test set: Average loss: 0.0743, Accuracy: 9859/10000 (98.59%)\n",
            "\n",
            "EPOCH: 14\n"
          ],
          "name": "stdout"
        },
        {
          "output_type": "stream",
          "text": [
            "Loss=0.6572004556655884 Batch_id=468 Accuracy=97.42: 100%|██████████| 469/469 [00:31<00:00, 14.86it/s]\n"
          ],
          "name": "stderr"
        },
        {
          "output_type": "stream",
          "text": [
            "\n",
            "Test set: Average loss: 0.0750, Accuracy: 9867/10000 (98.67%)\n",
            "\n"
          ],
          "name": "stdout"
        }
      ]
    },
    {
      "cell_type": "code",
      "metadata": {
        "id": "yNCEozLWtMNl"
      },
      "source": [
        ""
      ],
      "execution_count": null,
      "outputs": []
    },
    {
      "cell_type": "code",
      "metadata": {
        "id": "7QM2G81iskXS"
      },
      "source": [
        "import matplotlib.pyplot as plt\n",
        "% matplotlib inline\n",
        "epochs = [x for x in range(0,15)]"
      ],
      "execution_count": null,
      "outputs": []
    },
    {
      "cell_type": "code",
      "metadata": {
        "colab": {
          "base_uri": "https://localhost:8080/",
          "height": 352
        },
        "id": "sZdmiQSqE-cf",
        "outputId": "8cd1be00-2fdf-4e4b-dd89-2afcc3d595f2"
      },
      "source": [
        "color = ['B','G','R']\n",
        "for i,current_model in enumerate(result_dict.keys()):\n",
        "  plt.plot(epochs,result_dict[current_model]['acc'], color[i], label=f'Test Acc {current_model.value}')\n",
        "  plt.title('Validation Acc')\n",
        "  plt.xlabel('Epochs')\n",
        "  plt.ylabel('Acc')\n",
        "  plt.legend()\n",
        "plt.show()"
      ],
      "execution_count": null,
      "outputs": [
        {
          "output_type": "stream",
          "text": [
            "/usr/local/lib/python3.7/dist-packages/ipykernel_launcher.py:3: MatplotlibDeprecationWarning: Support for uppercase single-letter colors is deprecated since Matplotlib 3.1 and will be removed in 3.3; please use lowercase instead.\n",
            "  This is separate from the ipykernel package so we can avoid doing imports until\n"
          ],
          "name": "stderr"
        },
        {
          "output_type": "display_data",
          "data": {
            "image/png": "[encoded data removed]",
            "text/plain": [
              "<Figure size 432x288 with 1 Axes>"
            ]
          },
          "metadata": {
            "tags": [],
            "needs_background": "light"
          }
        }
      ]
    },
    {
      "cell_type": "code",
      "metadata": {
        "colab": {
          "base_uri": "https://localhost:8080/",
          "height": 295
        },
        "id": "2pcN2ZJ0T1je",
        "outputId": "40292a9a-2d06-49c9-bd9c-ef87887d0c57"
      },
      "source": [
        "color = ['B','G','R']\n",
        "for i,current_model in enumerate(result_dict.keys()):\n",
        "  plt.plot(epochs,result_dict[current_model]['loss'], color[i], label=f'Test Loss {current_model.value}')\n",
        "  plt.title('Validation Loss')\n",
        "  plt.xlabel('Epochs')\n",
        "  plt.ylabel('Loss')\n",
        "  plt.legend()\n",
        "plt.show()"
      ],
      "execution_count": null,
      "outputs": [
        {
          "output_type": "display_data",
          "data": {
            "image/png": "[encoded data removed]",
            "text/plain": [
              "<Figure size 432x288 with 1 Axes>"
            ]
          },
          "metadata": {
            "tags": [],
            "needs_background": "light"
          }
        }
      ]
    },
    {
      "cell_type": "code",
      "metadata": {
        "id": "nNbiJ6vXUwM1"
      },
      "source": [
        "def plot_misclassification(misclassified):\n",
        "    print('Total Misclassifications : {}'.format(len(misclassified)))\n",
        "    num_images = 10\n",
        "    fig = plt.figure(figsize=(12, 14))\n",
        "    fig.suptitle('Misclassifications')\n",
        "    for idx, image in enumerate(misclassified[:num_images]):\n",
        "        image = image.cpu().numpy()\n",
        "        print(image.shape)\n",
        "        # ax = fig.add_subplot(5, 5, idx+1)\n",
        "        # ax.axis('off')\n",
        "        # # ax.set_title('target {}\\npred {}'.format(target.item(), pred.item()), fontsize=12)\n",
        "        # ax.imshow(image.squeeze())\n",
        "    plt.show()"
      ],
      "execution_count": null,
      "outputs": []
    },
    {
      "cell_type": "code",
      "metadata": {
        "colab": {
          "base_uri": "https://localhost:8080/"
        },
        "id": "XSHqowJ7HGQG",
        "outputId": "a3786e0a-74e1-4e0b-8508-79f073fa9b39"
      },
      "source": [
        "for i,current_model in enumerate(result_dict.keys()):\n",
        "  # plot_misclassification(result_dict[current_model]['wrong_img'])\n",
        "  print(result_dict[current_model]['correct_label'][0])"
      ],
      "execution_count": 60,
      "outputs": [
        {
          "output_type": "stream",
          "text": [
            "tensor([4, 6], device='cuda:0')\n",
            "tensor([1, 9], device='cuda:0')\n",
            "tensor([3], device='cuda:0')\n"
          ],
          "name": "stdout"
        }
      ]
    },
    {
      "cell_type": "code",
      "metadata": {
        "id": "TuOo5xzpH8bL"
      },
      "source": [
        ""
      ],
      "execution_count": null,
      "outputs": []
    }
  ]
}